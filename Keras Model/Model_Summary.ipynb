{
 "cells": [
  {
   "cell_type": "code",
   "execution_count": 1,
   "metadata": {},
   "outputs": [
    {
     "name": "stderr",
     "output_type": "stream",
     "text": [
      "Using TensorFlow backend.\n"
     ]
    }
   ],
   "source": [
    "import pandas as pd\n",
    "from sklearn import preprocessing\n",
    "import numpy as np\n",
    "from keras.layers import Conv1D, MaxPool1D, Flatten\n",
    "from keras.layers import Dropout, Dense, TimeDistributed,LeakyReLU,LSTM,TimeDistributed\n",
    "from keras.models import Sequential\n",
    "from keras.utils import to_categorical\n",
    "from keras import optimizers\n",
    "from sklearn.model_selection import train_test_split\n",
    "from keras.models import load_model\n",
    "from keras import backend as K\n",
    "from sklearn import preprocessing\n",
    "from sklearn.metrics import classification_report\n",
    "from sklearn import svm\n",
    "import matplotlib.pyplot as plt\n",
    "from keras.constraints import maxnorm"
   ]
  },
  {
   "cell_type": "code",
   "execution_count": 2,
   "metadata": {},
   "outputs": [],
   "source": [
    "df = pd.read_csv('data_Oct_w2.csv')\n",
    "df = df.replace('-',np.nan)\n",
    "df = df.fillna(0)\n",
    "X = df.drop(['REGISTRATION_DATE','RETAILER_NUMBER','MSISDN','FAKE'],axis=1)\n",
    "# scaler = preprocessing.StandardScaler()\n",
    "# X = scaler.fit_transform(X)\n",
    "X = X.values\n",
    "Y = df['FAKE']\n",
    "Y = Y.values"
   ]
  },
  {
   "cell_type": "code",
   "execution_count": 3,
   "metadata": {},
   "outputs": [],
   "source": [
    "X_train, X_test, y_train, y_test = train_test_split(X, Y, test_size=0.20, random_state=42,stratify=Y)\n",
    "X_train = X_train.reshape(X_train.shape[0],X_train.shape[1],1)\n",
    "X_test = X_test.reshape(X_test.shape[0],X_test.shape[1],1)"
   ]
  },
  {
   "cell_type": "code",
   "execution_count": 3,
   "metadata": {},
   "outputs": [],
   "source": [
    "input_shape = (X.shape[1],1)\n",
    "X = X.reshape(X.shape[0],X.shape[1],1)"
   ]
  },
  {
   "cell_type": "code",
   "execution_count": 5,
   "metadata": {},
   "outputs": [
    {
     "name": "stdout",
     "output_type": "stream",
     "text": [
      "WARNING:tensorflow:From e:\\miniconda\\envs\\vir_env\\lib\\site-packages\\tensorflow_core\\python\\ops\\resource_variable_ops.py:1630: calling BaseResourceVariable.__init__ (from tensorflow.python.ops.resource_variable_ops) with constraint is deprecated and will be removed in a future version.\n",
      "Instructions for updating:\n",
      "If using Keras pass *_constraint arguments to layers.\n",
      "Model: \"sequential_1\"\n",
      "_________________________________________________________________\n",
      "Layer (type)                 Output Shape              Param #   \n",
      "=================================================================\n",
      "lstm_1 (LSTM)                (None, 50, 128)           66560     \n",
      "_________________________________________________________________\n",
      "lstm_2 (LSTM)                (None, 50, 128)           131584    \n",
      "_________________________________________________________________\n",
      "dropout_1 (Dropout)          (None, 50, 128)           0         \n",
      "_________________________________________________________________\n",
      "time_distributed_1 (TimeDist (None, 50, 64)            8256      \n",
      "_________________________________________________________________\n",
      "time_distributed_2 (TimeDist (None, 50, 32)            2080      \n",
      "_________________________________________________________________\n",
      "time_distributed_3 (TimeDist (None, 50, 16)            528       \n",
      "_________________________________________________________________\n",
      "time_distributed_4 (TimeDist (None, 50, 8)             136       \n",
      "_________________________________________________________________\n",
      "flatten_1 (Flatten)          (None, 400)               0         \n",
      "_________________________________________________________________\n",
      "dense_5 (Dense)              (None, 1)                 401       \n",
      "=================================================================\n",
      "Total params: 209,545\n",
      "Trainable params: 209,545\n",
      "Non-trainable params: 0\n",
      "_________________________________________________________________\n",
      "WARNING:tensorflow:From e:\\miniconda\\envs\\vir_env\\lib\\site-packages\\tensorflow_core\\python\\ops\\nn_impl.py:183: where (from tensorflow.python.ops.array_ops) is deprecated and will be removed in a future version.\n",
      "Instructions for updating:\n",
      "Use tf.where in 2.0, which has the same broadcast rule as np.where\n",
      "WARNING:tensorflow:From e:\\miniconda\\envs\\vir_env\\lib\\site-packages\\keras\\backend\\tensorflow_backend.py:422: The name tf.global_variables is deprecated. Please use tf.compat.v1.global_variables instead.\n",
      "\n",
      "Train on 651134 samples, validate on 162784 samples\n",
      "Epoch 1/10\n",
      "651134/651134 [==============================] - 1680s 3ms/step - loss: 0.4597 - acc: 0.8066 - val_loss: 0.4588 - val_acc: 0.8065\n",
      "Epoch 2/10\n",
      "651134/651134 [==============================] - 1662s 3ms/step - loss: 0.4591 - acc: 0.8067 - val_loss: 0.4587 - val_acc: 0.8069\n",
      "Epoch 3/10\n",
      "651134/651134 [==============================] - 1627s 2ms/step - loss: 0.4587 - acc: 0.8067 - val_loss: 0.4582 - val_acc: 0.8067\n",
      "Epoch 4/10\n",
      "651134/651134 [==============================] - 1610s 2ms/step - loss: 0.4585 - acc: 0.8067 - val_loss: 0.4587 - val_acc: 0.8062\n",
      "Epoch 5/10\n",
      "651134/651134 [==============================] - 1611s 2ms/step - loss: 0.4580 - acc: 0.8069 - val_loss: 0.4573 - val_acc: 0.8068\n",
      "Epoch 6/10\n",
      "651134/651134 [==============================] - 1649s 3ms/step - loss: 0.4575 - acc: 0.8071 - val_loss: 0.4578 - val_acc: 0.8069\n",
      "Epoch 7/10\n",
      "651134/651134 [==============================] - 1673s 3ms/step - loss: 0.4572 - acc: 0.8071 - val_loss: 0.4571 - val_acc: 0.8068\n",
      "Epoch 8/10\n",
      "651134/651134 [==============================] - 1680s 3ms/step - loss: 0.4569 - acc: 0.8072 - val_loss: 0.4566 - val_acc: 0.8070\n",
      "Epoch 9/10\n",
      "651134/651134 [==============================] - 1774s 3ms/step - loss: 0.4567 - acc: 0.8072 - val_loss: 0.4580 - val_acc: 0.8067\n",
      "Epoch 10/10\n",
      "651134/651134 [==============================] - 7000s 11ms/step - loss: 0.4564 - acc: 0.8073 - val_loss: 0.4577 - val_acc: 0.8068\n"
     ]
    }
   ],
   "source": [
    "model = Sequential()\n",
    "model.add(LSTM(128, return_sequences=True, input_shape=input_shape))\n",
    "model.add(LSTM(128, return_sequences=True))\n",
    "model.add(Dropout(0.5))\n",
    "model.add(TimeDistributed(Dense(64, activation='relu')))\n",
    "model.add(TimeDistributed(Dense(32, activation='relu')))\n",
    "model.add(TimeDistributed(Dense(16, activation='relu')))\n",
    "model.add(TimeDistributed(Dense(8, activation='relu')))\n",
    "model.add(Flatten())\n",
    "model.add(Dense(1, activation='sigmoid'))\n",
    "model.summary()\n",
    "model.load_weights('Trail_weights.h5')\n",
    "model.compile(loss='binary_crossentropy',optimizer='adam',metrics=['acc'])\n",
    "history = model.fit(X_train,y_train, epochs=10, shuffle=True,validation_data=(X_test,y_test))\n",
    "model.save('Lstm_model_2.h5')"
   ]
  },
  {
   "cell_type": "code",
   "execution_count": 16,
   "metadata": {
    "scrolled": true
   },
   "outputs": [
    {
     "name": "stdout",
     "output_type": "stream",
     "text": [
      "Model: \"sequential_4\"\n",
      "_________________________________________________________________\n",
      "Layer (type)                 Output Shape              Param #   \n",
      "=================================================================\n",
      "conv1d_13 (Conv1D)           (None, 50, 128)           512       \n",
      "_________________________________________________________________\n",
      "leaky_re_lu_4 (LeakyReLU)    (None, 50, 128)           0         \n",
      "_________________________________________________________________\n",
      "conv1d_14 (Conv1D)           (None, 50, 64)            24640     \n",
      "_________________________________________________________________\n",
      "conv1d_15 (Conv1D)           (None, 50, 32)            6176      \n",
      "_________________________________________________________________\n",
      "conv1d_16 (Conv1D)           (None, 50, 16)            1552      \n",
      "_________________________________________________________________\n",
      "max_pooling1d_4 (MaxPooling1 (None, 25, 16)            0         \n",
      "_________________________________________________________________\n",
      "dropout_4 (Dropout)          (None, 25, 16)            0         \n",
      "_________________________________________________________________\n",
      "flatten_4 (Flatten)          (None, 400)               0         \n",
      "_________________________________________________________________\n",
      "dense_10 (Dense)             (None, 32)                12832     \n",
      "_________________________________________________________________\n",
      "dense_11 (Dense)             (None, 64)                2112      \n",
      "_________________________________________________________________\n",
      "dense_12 (Dense)             (None, 1)                 65        \n",
      "=================================================================\n",
      "Total params: 47,889\n",
      "Trainable params: 47,889\n",
      "Non-trainable params: 0\n",
      "_________________________________________________________________\n",
      "Train on 838860 samples, validate on 209715 samples\n",
      "Epoch 1/12\n",
      "838860/838860 [==============================] - 515s 614us/step - loss: 0.6020 - acc: 0.6579 - val_loss: 0.5803 - val_acc: 0.6760\n",
      "Epoch 2/12\n",
      "838860/838860 [==============================] - 503s 600us/step - loss: 0.5858 - acc: 0.6718 - val_loss: 0.5792 - val_acc: 0.6766\n",
      "Epoch 3/12\n",
      "838860/838860 [==============================] - 917s 1ms/step - loss: 0.5842 - acc: 0.6727 - val_loss: 0.5794 - val_acc: 0.6768\n",
      "Epoch 4/12\n",
      "838860/838860 [==============================] - 3873s 5ms/step - loss: 0.5830 - acc: 0.6739 - val_loss: 0.5793 - val_acc: 0.6773\n",
      "Epoch 5/12\n",
      "838860/838860 [==============================] - 472s 562us/step - loss: 0.5824 - acc: 0.6743 - val_loss: 0.5784 - val_acc: 0.6780\n",
      "Epoch 6/12\n",
      "838860/838860 [==============================] - 498s 594us/step - loss: 0.5819 - acc: 0.6750 - val_loss: 0.5777 - val_acc: 0.6772\n",
      "Epoch 7/12\n",
      "838860/838860 [==============================] - 524s 624us/step - loss: 0.5814 - acc: 0.6750 - val_loss: 0.5776 - val_acc: 0.6773\n",
      "Epoch 8/12\n",
      "838860/838860 [==============================] - 522s 622us/step - loss: 0.5812 - acc: 0.6751 - val_loss: 0.5774 - val_acc: 0.6779\n",
      "Epoch 9/12\n",
      "838860/838860 [==============================] - 359s 428us/step - loss: 0.5809 - acc: 0.6754 - val_loss: 0.5775 - val_acc: 0.6786\n",
      "Epoch 10/12\n",
      "838860/838860 [==============================] - 290s 346us/step - loss: 0.5806 - acc: 0.6759 - val_loss: 0.5776 - val_acc: 0.6778\n",
      "Epoch 11/12\n",
      "838860/838860 [==============================] - 290s 345us/step - loss: 0.5806 - acc: 0.6753 - val_loss: 0.5781 - val_acc: 0.6775\n",
      "Epoch 12/12\n",
      "838860/838860 [==============================] - 286s 341us/step - loss: 0.5801 - acc: 0.6763 - val_loss: 0.5768 - val_acc: 0.6786\n"
     ]
    }
   ],
   "source": [
    "model = Sequential()\n",
    "model.add(Conv1D(128, 3, padding='same', input_shape=input_shape))\n",
    "model.add(LeakyReLU(alpha=0.1))\n",
    "model.add(Conv1D(64, 3, activation='relu',padding='same'))\n",
    "model.add(Conv1D(32, 3, activation='relu',padding='same'))\n",
    "model.add(Conv1D(16, 3, activation='relu',padding='same'))\n",
    "model.add(MaxPool1D(2))\n",
    "model.add(Dropout(0.5))\n",
    "model.add(Flatten())\n",
    "model.add(Dense(32,activation='relu'))\n",
    "model.add(Dense(64,activation='relu'))\n",
    "model.add(Dense(1,activation='sigmoid'))\n",
    "model.summary()\n",
    "model.compile(loss='binary_crossentropy',optimizer='SGD',metrics=['acc'])\n",
    "history = model.fit(X_train,y_train, epochs=12, shuffle=True,validation_data=(X_test,y_test))\n",
    "model.save('model.h5')"
   ]
  },
  {
   "cell_type": "code",
   "execution_count": 4,
   "metadata": {},
   "outputs": [
    {
     "name": "stdout",
     "output_type": "stream",
     "text": [
      "WARNING:tensorflow:From e:\\miniconda\\envs\\vir_env\\lib\\site-packages\\tensorflow_core\\python\\ops\\resource_variable_ops.py:1630: calling BaseResourceVariable.__init__ (from tensorflow.python.ops.resource_variable_ops) with constraint is deprecated and will be removed in a future version.\n",
      "Instructions for updating:\n",
      "If using Keras pass *_constraint arguments to layers.\n",
      "WARNING:tensorflow:From e:\\miniconda\\envs\\vir_env\\lib\\site-packages\\tensorflow_core\\python\\ops\\nn_impl.py:183: where (from tensorflow.python.ops.array_ops) is deprecated and will be removed in a future version.\n",
      "Instructions for updating:\n",
      "Use tf.where in 2.0, which has the same broadcast rule as np.where\n",
      "WARNING:tensorflow:From e:\\miniconda\\envs\\vir_env\\lib\\site-packages\\keras\\backend\\tensorflow_backend.py:422: The name tf.global_variables is deprecated. Please use tf.compat.v1.global_variables instead.\n",
      "\n"
     ]
    }
   ],
   "source": [
    "model = load_model('updated_model.h5')"
   ]
  },
  {
   "cell_type": "code",
   "execution_count": 6,
   "metadata": {},
   "outputs": [
    {
     "ename": "NameError",
     "evalue": "name 'history' is not defined",
     "output_type": "error",
     "traceback": [
      "\u001b[1;31m---------------------------------------------------------------------------\u001b[0m",
      "\u001b[1;31mNameError\u001b[0m                                 Traceback (most recent call last)",
      "\u001b[1;32m<ipython-input-6-7f539fdf9cbf>\u001b[0m in \u001b[0;36m<module>\u001b[1;34m\u001b[0m\n\u001b[1;32m----> 1\u001b[1;33m \u001b[0mprint\u001b[0m\u001b[1;33m(\u001b[0m\u001b[0mhistory\u001b[0m\u001b[1;33m.\u001b[0m\u001b[0mhistory\u001b[0m\u001b[1;33m.\u001b[0m\u001b[0mkeys\u001b[0m\u001b[1;33m(\u001b[0m\u001b[1;33m)\u001b[0m\u001b[1;33m)\u001b[0m\u001b[1;33m\u001b[0m\u001b[1;33m\u001b[0m\u001b[0m\n\u001b[0m",
      "\u001b[1;31mNameError\u001b[0m: name 'history' is not defined"
     ]
    }
   ],
   "source": [
    "print(history.history.keys())"
   ]
  },
  {
   "cell_type": "code",
   "execution_count": 15,
   "metadata": {},
   "outputs": [
    {
     "name": "stdout",
     "output_type": "stream",
     "text": [
      "209715/209715 [==============================] - 98s 467us/step\n"
     ]
    }
   ],
   "source": [
    "y_pred = model.predict(X_test, batch_size=64, verbose=1)\n",
    "\n",
    "y_pred_bool = []\n",
    "for i in range(len(y_pred)):\n",
    "    if y_pred[i] > 0.50:\n",
    "        y_pred_bool.append(1)\n",
    "    else:\n",
    "        y_pred_bool.append(0) \n",
    "\n",
    "\n",
    "report = classification_report(y_test, y_pred_bool,output_dict=True)\n",
    "df1 = pd.DataFrame(report).transpose()"
   ]
  },
  {
   "cell_type": "code",
   "execution_count": 16,
   "metadata": {},
   "outputs": [
    {
     "data": {
      "text/html": [
       "<div>\n",
       "<style scoped>\n",
       "    .dataframe tbody tr th:only-of-type {\n",
       "        vertical-align: middle;\n",
       "    }\n",
       "\n",
       "    .dataframe tbody tr th {\n",
       "        vertical-align: top;\n",
       "    }\n",
       "\n",
       "    .dataframe thead th {\n",
       "        text-align: right;\n",
       "    }\n",
       "</style>\n",
       "<table border=\"1\" class=\"dataframe\">\n",
       "  <thead>\n",
       "    <tr style=\"text-align: right;\">\n",
       "      <th></th>\n",
       "      <th>precision</th>\n",
       "      <th>recall</th>\n",
       "      <th>f1-score</th>\n",
       "      <th>support</th>\n",
       "    </tr>\n",
       "  </thead>\n",
       "  <tbody>\n",
       "    <tr>\n",
       "      <th>0</th>\n",
       "      <td>0.661662</td>\n",
       "      <td>0.725886</td>\n",
       "      <td>0.692288</td>\n",
       "      <td>104599.000000</td>\n",
       "    </tr>\n",
       "    <tr>\n",
       "      <th>1</th>\n",
       "      <td>0.698072</td>\n",
       "      <td>0.630646</td>\n",
       "      <td>0.662648</td>\n",
       "      <td>105116.000000</td>\n",
       "    </tr>\n",
       "    <tr>\n",
       "      <th>accuracy</th>\n",
       "      <td>0.678149</td>\n",
       "      <td>0.678149</td>\n",
       "      <td>0.678149</td>\n",
       "      <td>0.678149</td>\n",
       "    </tr>\n",
       "    <tr>\n",
       "      <th>macro avg</th>\n",
       "      <td>0.679867</td>\n",
       "      <td>0.678266</td>\n",
       "      <td>0.677468</td>\n",
       "      <td>209715.000000</td>\n",
       "    </tr>\n",
       "    <tr>\n",
       "      <th>weighted avg</th>\n",
       "      <td>0.679912</td>\n",
       "      <td>0.678149</td>\n",
       "      <td>0.677431</td>\n",
       "      <td>209715.000000</td>\n",
       "    </tr>\n",
       "  </tbody>\n",
       "</table>\n",
       "</div>"
      ],
      "text/plain": [
       "              precision    recall  f1-score        support\n",
       "0              0.661662  0.725886  0.692288  104599.000000\n",
       "1              0.698072  0.630646  0.662648  105116.000000\n",
       "accuracy       0.678149  0.678149  0.678149       0.678149\n",
       "macro avg      0.679867  0.678266  0.677468  209715.000000\n",
       "weighted avg   0.679912  0.678149  0.677431  209715.000000"
      ]
     },
     "execution_count": 16,
     "metadata": {},
     "output_type": "execute_result"
    }
   ],
   "source": [
    "df1"
   ]
  },
  {
   "cell_type": "code",
   "execution_count": null,
   "metadata": {},
   "outputs": [
    {
     "name": "stdout",
     "output_type": "stream",
     "text": [
      "Train on 838860 samples, validate on 209715 samples\n",
      "Epoch 1/40\n",
      "838860/838860 [==============================] - 87s 104us/step - loss: 0.5964 - accuracy: 0.6657 - val_loss: 0.5831 - val_accuracy: 0.6740\n",
      "Epoch 2/40\n",
      "838860/838860 [==============================] - 94s 112us/step - loss: 0.5915 - accuracy: 0.6710 - val_loss: 0.5809 - val_accuracy: 0.6746\n",
      "Epoch 3/40\n",
      "838860/838860 [==============================] - 97s 115us/step - loss: 0.5904 - accuracy: 0.6721 - val_loss: 0.5809 - val_accuracy: 0.6761\n",
      "Epoch 4/40\n",
      "838860/838860 [==============================] - 99s 118us/step - loss: 0.5905 - accuracy: 0.6727 - val_loss: 0.5819 - val_accuracy: 0.6760\n",
      "Epoch 5/40\n",
      "838860/838860 [==============================] - 96s 114us/step - loss: 0.5903 - accuracy: 0.6725 - val_loss: 0.5802 - val_accuracy: 0.6768\n",
      "Epoch 6/40\n",
      "838860/838860 [==============================] - 95s 113us/step - loss: 0.5902 - accuracy: 0.6731 - val_loss: 0.5806 - val_accuracy: 0.6762\n",
      "Epoch 7/40\n",
      "838860/838860 [==============================] - 94s 112us/step - loss: 0.5898 - accuracy: 0.6727 - val_loss: 0.5798 - val_accuracy: 0.6768\n",
      "Epoch 8/40\n",
      "838860/838860 [==============================] - 95s 113us/step - loss: 0.5898 - accuracy: 0.6731 - val_loss: 0.5802 - val_accuracy: 0.6762\n",
      "Epoch 9/40\n",
      "838860/838860 [==============================] - 94s 112us/step - loss: 0.5901 - accuracy: 0.6727 - val_loss: 0.5804 - val_accuracy: 0.6757\n",
      "Epoch 10/40\n",
      "838860/838860 [==============================] - 96s 114us/step - loss: 0.5897 - accuracy: 0.6728 - val_loss: 0.5804 - val_accuracy: 0.6765\n",
      "Epoch 11/40\n",
      "838860/838860 [==============================] - 95s 113us/step - loss: 0.5897 - accuracy: 0.6732 - val_loss: 0.5803 - val_accuracy: 0.6771\n",
      "Epoch 12/40\n",
      "838860/838860 [==============================] - 97s 115us/step - loss: 0.5899 - accuracy: 0.6733 - val_loss: 0.5827 - val_accuracy: 0.6766\n",
      "Epoch 13/40\n",
      "838860/838860 [==============================] - 94s 112us/step - loss: 0.5901 - accuracy: 0.6725 - val_loss: 0.5795 - val_accuracy: 0.6772\n",
      "Epoch 14/40\n",
      "838860/838860 [==============================] - 95s 114us/step - loss: 0.5898 - accuracy: 0.6734 - val_loss: 0.5821 - val_accuracy: 0.6769\n",
      "Epoch 15/40\n",
      "838860/838860 [==============================] - 96s 115us/step - loss: 0.5900 - accuracy: 0.6726 - val_loss: 0.5804 - val_accuracy: 0.6774\n",
      "Epoch 16/40\n",
      "838860/838860 [==============================] - 90s 107us/step - loss: 0.5896 - accuracy: 0.6726 - val_loss: 0.5804 - val_accuracy: 0.6756\n",
      "Epoch 17/40\n",
      "838860/838860 [==============================] - 95s 114us/step - loss: 0.5900 - accuracy: 0.6729 - val_loss: 0.5801 - val_accuracy: 0.6771\n",
      "Epoch 18/40\n",
      "838860/838860 [==============================] - 91s 109us/step - loss: 0.5898 - accuracy: 0.6729 - val_loss: 0.5805 - val_accuracy: 0.6767\n",
      "Epoch 19/40\n",
      "838860/838860 [==============================] - 89s 106us/step - loss: 0.5899 - accuracy: 0.6731 - val_loss: 0.5794 - val_accuracy: 0.6773\n",
      "Epoch 20/40\n",
      "838860/838860 [==============================] - 92s 110us/step - loss: 0.5898 - accuracy: 0.6732 - val_loss: 0.5813 - val_accuracy: 0.6766\n",
      "Epoch 21/40\n",
      "838860/838860 [==============================] - 88s 105us/step - loss: 0.5898 - accuracy: 0.6726 - val_loss: 0.5797 - val_accuracy: 0.6766\n",
      "Epoch 22/40\n",
      "838860/838860 [==============================] - 95s 113us/step - loss: 0.5899 - accuracy: 0.6731 - val_loss: 0.5795 - val_accuracy: 0.6755\n",
      "Epoch 23/40\n",
      "838860/838860 [==============================] - 99s 118us/step - loss: 0.5897 - accuracy: 0.6732 - val_loss: 0.5809 - val_accuracy: 0.6774\n",
      "Epoch 24/40\n",
      "838860/838860 [==============================] - 96s 114us/step - loss: 0.5898 - accuracy: 0.6729 - val_loss: 0.5798 - val_accuracy: 0.6769\n",
      "Epoch 25/40\n",
      "838860/838860 [==============================] - 88s 105us/step - loss: 0.5900 - accuracy: 0.6729 - val_loss: 0.5805 - val_accuracy: 0.6760\n",
      "Epoch 26/40\n",
      "838860/838860 [==============================] - 92s 110us/step - loss: 0.5899 - accuracy: 0.6731 - val_loss: 0.5790 - val_accuracy: 0.6772\n",
      "Epoch 27/40\n",
      "838860/838860 [==============================] - 92s 110us/step - loss: 0.5899 - accuracy: 0.6732 - val_loss: 0.5794 - val_accuracy: 0.6769\n",
      "Epoch 28/40\n",
      "838860/838860 [==============================] - 95s 113us/step - loss: 0.5900 - accuracy: 0.6731 - val_loss: 0.5795 - val_accuracy: 0.6762\n",
      "Epoch 29/40\n",
      "838860/838860 [==============================] - 95s 113us/step - loss: 0.5900 - accuracy: 0.6730 - val_loss: 0.5802 - val_accuracy: 0.6768\n",
      "Epoch 30/40\n",
      "838860/838860 [==============================] - 94s 112us/step - loss: 0.5900 - accuracy: 0.6729 - val_loss: 0.5811 - val_accuracy: 0.6755\n",
      "Epoch 31/40\n",
      "838860/838860 [==============================] - 95s 114us/step - loss: 0.5897 - accuracy: 0.6729 - val_loss: 0.5810 - val_accuracy: 0.6766\n",
      "Epoch 32/40\n",
      "838860/838860 [==============================] - 86s 103us/step - loss: 0.5898 - accuracy: 0.6732 - val_loss: 0.5802 - val_accuracy: 0.6770\n",
      "Epoch 33/40\n",
      "838860/838860 [==============================] - 87s 104us/step - loss: 0.5899 - accuracy: 0.6725 - val_loss: 0.5794 - val_accuracy: 0.6775\n",
      "Epoch 34/40\n",
      "838860/838860 [==============================] - 88s 104us/step - loss: 0.5897 - accuracy: 0.6727 - val_loss: 0.5798 - val_accuracy: 0.6774\n",
      "Epoch 35/40\n",
      "838860/838860 [==============================] - 92s 109us/step - loss: 0.5899 - accuracy: 0.6727 - val_loss: 0.5804 - val_accuracy: 0.6770\n",
      "Epoch 36/40\n",
      "838860/838860 [==============================] - 94s 112us/step - loss: 0.5900 - accuracy: 0.6726 - val_loss: 0.5803 - val_accuracy: 0.6765\n",
      "Epoch 37/40\n",
      "838860/838860 [==============================] - 88s 105us/step - loss: 0.5899 - accuracy: 0.6727 - val_loss: 0.5796 - val_accuracy: 0.6773\n",
      "Epoch 38/40\n",
      "838860/838860 [==============================] - 85s 101us/step - loss: 0.5897 - accuracy: 0.6731 - val_loss: 0.5814 - val_accuracy: 0.6768\n",
      "Epoch 39/40\n",
      "838860/838860 [==============================] - 84s 100us/step - loss: 0.5897 - accuracy: 0.6728 - val_loss: 0.5805 - val_accuracy: 0.6774\n",
      "Epoch 40/40\n",
      "220180/838860 [======>.......................] - ETA: 55s - loss: 0.5886 - accuracy: 0.6745"
     ]
    }
   ],
   "source": [
    "model = Sequential()\n",
    "model.add(Dense(16, input_dim=X_train.shape[1], activation='relu', kernel_constraint=maxnorm(3)))\n",
    "model.add(Dropout(rate=0.2))\n",
    "model.add(Dense(8, activation='relu', kernel_constraint=maxnorm(3)))\n",
    "model.add(Dropout(rate=0.2))\n",
    "model.add(Dense(1, activation='sigmoid'))\n",
    "model.compile(loss = \"binary_crossentropy\", optimizer = 'adam', metrics=['accuracy'])\n",
    "history = model.fit(X_train, y_train, validation_data=(X_test, y_test), epochs=40, batch_size=10)"
   ]
  },
  {
   "cell_type": "code",
   "execution_count": 7,
   "metadata": {},
   "outputs": [
    {
     "data": {
      "image/png": "[encoded data removed]",
      "text/plain": [
       "<Figure size 432x288 with 1 Axes>"
      ]
     },
     "metadata": {
      "needs_background": "light"
     },
     "output_type": "display_data"
    }
   ],
   "source": [
    "plt.plot(history.history['acc'])\n",
    "plt.plot(history.history['val_acc'])\n",
    "plt.title('model accuracy')\n",
    "plt.ylabel('accuracy')\n",
    "plt.xlabel('epoch')\n",
    "plt.legend(['train', 'test'], loc='upper left')\n",
    "plt.show()"
   ]
  },
  {
   "cell_type": "code",
   "execution_count": 5,
   "metadata": {},
   "outputs": [
    {
     "name": "stdout",
     "output_type": "stream",
     "text": [
      "251187/251187 [==============================] - 162s 645us/step\n"
     ]
    }
   ],
   "source": [
    "# X = X.reshape(X.shape[0],X.shape[1],1)\n",
    "y_pred = model.predict(X, batch_size=64, verbose=1)"
   ]
  },
  {
   "cell_type": "code",
   "execution_count": 6,
   "metadata": {},
   "outputs": [],
   "source": [
    "df['pred'] = y_pred"
   ]
  },
  {
   "cell_type": "code",
   "execution_count": 7,
   "metadata": {},
   "outputs": [],
   "source": [
    "df_sort = df.sort_values(by=['pred'])\n",
    "\n",
    "df_sort['ind'] = [x for x in range(df_sort.shape[0])]\n",
    "\n",
    "\n",
    "df_sort['bucket_no'] = round(   ((df_sort['ind']+1)/df_sort.shape[0]) * 10 )"
   ]
  },
  {
   "cell_type": "code",
   "execution_count": 8,
   "metadata": {
    "scrolled": false
   },
   "outputs": [
    {
     "name": "stdout",
     "output_type": "stream",
     "text": [
      "bucket_no\n",
      "0.0     0.000486\n",
      "1.0     0.067426\n",
      "2.0     0.102549\n",
      "3.0     0.135341\n",
      "4.0     0.171577\n",
      "5.0     0.211526\n",
      "6.0     0.254185\n",
      "7.0     0.307529\n",
      "8.0     0.380508\n",
      "9.0     0.474685\n",
      "10.0    0.600819\n",
      "Name: pred, dtype: float32 bucket_no\n",
      "0.0     0.067426\n",
      "1.0     0.102547\n",
      "2.0     0.135340\n",
      "3.0     0.171576\n",
      "4.0     0.211524\n",
      "5.0     0.254184\n",
      "6.0     0.307527\n",
      "7.0     0.380506\n",
      "8.0     0.474683\n",
      "9.0     0.600806\n",
      "10.0    0.972367\n",
      "Name: pred, dtype: float32 bucket_no\n",
      "0.0     12559\n",
      "1.0     25119\n",
      "2.0     25118\n",
      "3.0     25119\n",
      "4.0     25119\n",
      "5.0     25118\n",
      "6.0     25119\n",
      "7.0     25119\n",
      "8.0     25118\n",
      "9.0     25119\n",
      "10.0    12560\n",
      "Name: RETAILER_NUMBER, dtype: int64 bucket_no\n",
      "0.0       417\n",
      "1.0      1535\n",
      "2.0      2301\n",
      "3.0      3197\n",
      "4.0      4204\n",
      "5.0      5427\n",
      "6.0      6670\n",
      "7.0      8451\n",
      "8.0     10502\n",
      "9.0     13455\n",
      "10.0     9206\n",
      "Name: RETAILER_NUMBER, dtype: int64 bucket_no\n",
      "0.0     0.033203\n",
      "1.0     0.061109\n",
      "2.0     0.091608\n",
      "3.0     0.127274\n",
      "4.0     0.167363\n",
      "5.0     0.216060\n",
      "6.0     0.265536\n",
      "7.0     0.336439\n",
      "8.0     0.418107\n",
      "9.0     0.535650\n",
      "10.0    0.732962\n",
      "Name: RETAILER_NUMBER, dtype: float64\n"
     ]
    }
   ],
   "source": [
    "print(df_sort.groupby(['bucket_no']).min()['pred'], df_sort.groupby(['bucket_no']).max()['pred'], df_sort.groupby(['bucket_no']).count()['RETAILER_NUMBER'], df_sort[df_sort['FAKE'] == 1].groupby(['bucket_no']).count()['RETAILER_NUMBER'], df_sort[df_sort['FAKE'] == 1].groupby(['bucket_no']).count()['RETAILER_NUMBER']/df_sort.groupby(['bucket_no']).count()['RETAILER_NUMBER'])"
   ]
  },
  {
   "cell_type": "code",
   "execution_count": 9,
   "metadata": {},
   "outputs": [],
   "source": [
    "df1 = df_sort.groupby(['bucket_no']).min()['pred']"
   ]
  },
  {
   "cell_type": "code",
   "execution_count": 10,
   "metadata": {},
   "outputs": [],
   "source": [
    "df1 = pd.Series(df1,name='min')"
   ]
  },
  {
   "cell_type": "code",
   "execution_count": 11,
   "metadata": {},
   "outputs": [],
   "source": [
    "df2 = df_sort.groupby(['bucket_no']).max()['pred']\n",
    "df2 = pd.Series(df2,name='max')"
   ]
  },
  {
   "cell_type": "code",
   "execution_count": 12,
   "metadata": {},
   "outputs": [],
   "source": [
    "df3 = df_sort.groupby(['bucket_no']).count()['RETAILER_NUMBER']\n",
    "df3 = pd.Series(df3,name='Total')\n",
    "df4 = df_sort[df_sort['FAKE'] == 1].groupby(['bucket_no']).count()['RETAILER_NUMBER']\n",
    "df4 = pd.Series(df4,name = 'Fakes')\n",
    "df5 = df_sort[df_sort['FAKE'] == 1].groupby(['bucket_no']).count()['RETAILER_NUMBER']/df_sort.groupby(['bucket_no']).count()['RETAILER_NUMBER']\n",
    "df5 = pd.Series(df5,name='Pred')"
   ]
  },
  {
   "cell_type": "code",
   "execution_count": 13,
   "metadata": {},
   "outputs": [],
   "source": [
    "df_final = pd.concat([df1,df2,df3,df4,df5],axis=1)"
   ]
  },
  {
   "cell_type": "code",
   "execution_count": 14,
   "metadata": {},
   "outputs": [
    {
     "data": {
      "text/html": [
       "<div>\n",
       "<style scoped>\n",
       "    .dataframe tbody tr th:only-of-type {\n",
       "        vertical-align: middle;\n",
       "    }\n",
       "\n",
       "    .dataframe tbody tr th {\n",
       "        vertical-align: top;\n",
       "    }\n",
       "\n",
       "    .dataframe thead th {\n",
       "        text-align: right;\n",
       "    }\n",
       "</style>\n",
       "<table border=\"1\" class=\"dataframe\">\n",
       "  <thead>\n",
       "    <tr style=\"text-align: right;\">\n",
       "      <th></th>\n",
       "      <th>min</th>\n",
       "      <th>max</th>\n",
       "      <th>Total</th>\n",
       "      <th>Fakes</th>\n",
       "      <th>Pred</th>\n",
       "    </tr>\n",
       "    <tr>\n",
       "      <th>bucket_no</th>\n",
       "      <th></th>\n",
       "      <th></th>\n",
       "      <th></th>\n",
       "      <th></th>\n",
       "      <th></th>\n",
       "    </tr>\n",
       "  </thead>\n",
       "  <tbody>\n",
       "    <tr>\n",
       "      <th>0.0</th>\n",
       "      <td>0.000486</td>\n",
       "      <td>0.067426</td>\n",
       "      <td>12559</td>\n",
       "      <td>417</td>\n",
       "      <td>0.033203</td>\n",
       "    </tr>\n",
       "    <tr>\n",
       "      <th>1.0</th>\n",
       "      <td>0.067426</td>\n",
       "      <td>0.102547</td>\n",
       "      <td>25119</td>\n",
       "      <td>1535</td>\n",
       "      <td>0.061109</td>\n",
       "    </tr>\n",
       "    <tr>\n",
       "      <th>2.0</th>\n",
       "      <td>0.102549</td>\n",
       "      <td>0.135340</td>\n",
       "      <td>25118</td>\n",
       "      <td>2301</td>\n",
       "      <td>0.091608</td>\n",
       "    </tr>\n",
       "    <tr>\n",
       "      <th>3.0</th>\n",
       "      <td>0.135341</td>\n",
       "      <td>0.171576</td>\n",
       "      <td>25119</td>\n",
       "      <td>3197</td>\n",
       "      <td>0.127274</td>\n",
       "    </tr>\n",
       "    <tr>\n",
       "      <th>4.0</th>\n",
       "      <td>0.171577</td>\n",
       "      <td>0.211524</td>\n",
       "      <td>25119</td>\n",
       "      <td>4204</td>\n",
       "      <td>0.167363</td>\n",
       "    </tr>\n",
       "    <tr>\n",
       "      <th>5.0</th>\n",
       "      <td>0.211526</td>\n",
       "      <td>0.254184</td>\n",
       "      <td>25118</td>\n",
       "      <td>5427</td>\n",
       "      <td>0.216060</td>\n",
       "    </tr>\n",
       "    <tr>\n",
       "      <th>6.0</th>\n",
       "      <td>0.254185</td>\n",
       "      <td>0.307527</td>\n",
       "      <td>25119</td>\n",
       "      <td>6670</td>\n",
       "      <td>0.265536</td>\n",
       "    </tr>\n",
       "    <tr>\n",
       "      <th>7.0</th>\n",
       "      <td>0.307529</td>\n",
       "      <td>0.380506</td>\n",
       "      <td>25119</td>\n",
       "      <td>8451</td>\n",
       "      <td>0.336439</td>\n",
       "    </tr>\n",
       "    <tr>\n",
       "      <th>8.0</th>\n",
       "      <td>0.380508</td>\n",
       "      <td>0.474683</td>\n",
       "      <td>25118</td>\n",
       "      <td>10502</td>\n",
       "      <td>0.418107</td>\n",
       "    </tr>\n",
       "    <tr>\n",
       "      <th>9.0</th>\n",
       "      <td>0.474685</td>\n",
       "      <td>0.600806</td>\n",
       "      <td>25119</td>\n",
       "      <td>13455</td>\n",
       "      <td>0.535650</td>\n",
       "    </tr>\n",
       "    <tr>\n",
       "      <th>10.0</th>\n",
       "      <td>0.600819</td>\n",
       "      <td>0.972367</td>\n",
       "      <td>12560</td>\n",
       "      <td>9206</td>\n",
       "      <td>0.732962</td>\n",
       "    </tr>\n",
       "  </tbody>\n",
       "</table>\n",
       "</div>"
      ],
      "text/plain": [
       "                min       max  Total  Fakes      Pred\n",
       "bucket_no                                            \n",
       "0.0        0.000486  0.067426  12559    417  0.033203\n",
       "1.0        0.067426  0.102547  25119   1535  0.061109\n",
       "2.0        0.102549  0.135340  25118   2301  0.091608\n",
       "3.0        0.135341  0.171576  25119   3197  0.127274\n",
       "4.0        0.171577  0.211524  25119   4204  0.167363\n",
       "5.0        0.211526  0.254184  25118   5427  0.216060\n",
       "6.0        0.254185  0.307527  25119   6670  0.265536\n",
       "7.0        0.307529  0.380506  25119   8451  0.336439\n",
       "8.0        0.380508  0.474683  25118  10502  0.418107\n",
       "9.0        0.474685  0.600806  25119  13455  0.535650\n",
       "10.0       0.600819  0.972367  12560   9206  0.732962"
      ]
     },
     "execution_count": 14,
     "metadata": {},
     "output_type": "execute_result"
    }
   ],
   "source": [
    "df_final"
   ]
  },
  {
   "cell_type": "code",
   "execution_count": 15,
   "metadata": {},
   "outputs": [],
   "source": [
    "a  = df_final['Fakes'].values"
   ]
  },
  {
   "cell_type": "code",
   "execution_count": 16,
   "metadata": {},
   "outputs": [],
   "source": [
    "a = [ele for ele in reversed(a)]"
   ]
  },
  {
   "cell_type": "code",
   "execution_count": 17,
   "metadata": {},
   "outputs": [
    {
     "data": {
      "text/plain": [
       "[9206, 13455, 10502, 8451, 6670, 5427, 4204, 3197, 2301, 1535, 417]"
      ]
     },
     "execution_count": 17,
     "metadata": {},
     "output_type": "execute_result"
    }
   ],
   "source": [
    "a"
   ]
  },
  {
   "cell_type": "code",
   "execution_count": 18,
   "metadata": {},
   "outputs": [],
   "source": [
    "for i in range(len(a)):\n",
    "    if i !=0:\n",
    "        a[i] = a[i]+ a[i-1]"
   ]
  },
  {
   "cell_type": "code",
   "execution_count": 19,
   "metadata": {},
   "outputs": [
    {
     "data": {
      "text/plain": [
       "[9206, 22661, 33163, 41614, 48284, 53711, 57915, 61112, 63413, 64948, 65365]"
      ]
     },
     "execution_count": 19,
     "metadata": {},
     "output_type": "execute_result"
    }
   ],
   "source": [
    "a "
   ]
  },
  {
   "cell_type": "code",
   "execution_count": 20,
   "metadata": {},
   "outputs": [],
   "source": [
    "a = [ele for ele in reversed(a)]"
   ]
  },
  {
   "cell_type": "code",
   "execution_count": 21,
   "metadata": {},
   "outputs": [
    {
     "data": {
      "text/plain": [
       "[65365, 64948, 63413, 61112, 57915, 53711, 48284, 41614, 33163, 22661, 9206]"
      ]
     },
     "execution_count": 21,
     "metadata": {},
     "output_type": "execute_result"
    }
   ],
   "source": [
    "a"
   ]
  },
  {
   "cell_type": "code",
   "execution_count": 22,
   "metadata": {},
   "outputs": [],
   "source": [
    "df6 = pd.Series(a,name='fake_count')"
   ]
  },
  {
   "cell_type": "code",
   "execution_count": 23,
   "metadata": {},
   "outputs": [],
   "source": [
    "df_final = pd.concat([df1,df2,df3,df4,df5,df6],axis=1)"
   ]
  },
  {
   "cell_type": "code",
   "execution_count": 24,
   "metadata": {},
   "outputs": [
    {
     "data": {
      "text/html": [
       "<div>\n",
       "<style scoped>\n",
       "    .dataframe tbody tr th:only-of-type {\n",
       "        vertical-align: middle;\n",
       "    }\n",
       "\n",
       "    .dataframe tbody tr th {\n",
       "        vertical-align: top;\n",
       "    }\n",
       "\n",
       "    .dataframe thead th {\n",
       "        text-align: right;\n",
       "    }\n",
       "</style>\n",
       "<table border=\"1\" class=\"dataframe\">\n",
       "  <thead>\n",
       "    <tr style=\"text-align: right;\">\n",
       "      <th></th>\n",
       "      <th>min</th>\n",
       "      <th>max</th>\n",
       "      <th>Total</th>\n",
       "      <th>Fakes</th>\n",
       "      <th>Pred</th>\n",
       "      <th>fake_count</th>\n",
       "    </tr>\n",
       "  </thead>\n",
       "  <tbody>\n",
       "    <tr>\n",
       "      <th>0.0</th>\n",
       "      <td>0.000486</td>\n",
       "      <td>0.067426</td>\n",
       "      <td>12559</td>\n",
       "      <td>417</td>\n",
       "      <td>0.033203</td>\n",
       "      <td>65365</td>\n",
       "    </tr>\n",
       "    <tr>\n",
       "      <th>1.0</th>\n",
       "      <td>0.067426</td>\n",
       "      <td>0.102547</td>\n",
       "      <td>25119</td>\n",
       "      <td>1535</td>\n",
       "      <td>0.061109</td>\n",
       "      <td>64948</td>\n",
       "    </tr>\n",
       "    <tr>\n",
       "      <th>2.0</th>\n",
       "      <td>0.102549</td>\n",
       "      <td>0.135340</td>\n",
       "      <td>25118</td>\n",
       "      <td>2301</td>\n",
       "      <td>0.091608</td>\n",
       "      <td>63413</td>\n",
       "    </tr>\n",
       "    <tr>\n",
       "      <th>3.0</th>\n",
       "      <td>0.135341</td>\n",
       "      <td>0.171576</td>\n",
       "      <td>25119</td>\n",
       "      <td>3197</td>\n",
       "      <td>0.127274</td>\n",
       "      <td>61112</td>\n",
       "    </tr>\n",
       "    <tr>\n",
       "      <th>4.0</th>\n",
       "      <td>0.171577</td>\n",
       "      <td>0.211524</td>\n",
       "      <td>25119</td>\n",
       "      <td>4204</td>\n",
       "      <td>0.167363</td>\n",
       "      <td>57915</td>\n",
       "    </tr>\n",
       "    <tr>\n",
       "      <th>5.0</th>\n",
       "      <td>0.211526</td>\n",
       "      <td>0.254184</td>\n",
       "      <td>25118</td>\n",
       "      <td>5427</td>\n",
       "      <td>0.216060</td>\n",
       "      <td>53711</td>\n",
       "    </tr>\n",
       "    <tr>\n",
       "      <th>6.0</th>\n",
       "      <td>0.254185</td>\n",
       "      <td>0.307527</td>\n",
       "      <td>25119</td>\n",
       "      <td>6670</td>\n",
       "      <td>0.265536</td>\n",
       "      <td>48284</td>\n",
       "    </tr>\n",
       "    <tr>\n",
       "      <th>7.0</th>\n",
       "      <td>0.307529</td>\n",
       "      <td>0.380506</td>\n",
       "      <td>25119</td>\n",
       "      <td>8451</td>\n",
       "      <td>0.336439</td>\n",
       "      <td>41614</td>\n",
       "    </tr>\n",
       "    <tr>\n",
       "      <th>8.0</th>\n",
       "      <td>0.380508</td>\n",
       "      <td>0.474683</td>\n",
       "      <td>25118</td>\n",
       "      <td>10502</td>\n",
       "      <td>0.418107</td>\n",
       "      <td>33163</td>\n",
       "    </tr>\n",
       "    <tr>\n",
       "      <th>9.0</th>\n",
       "      <td>0.474685</td>\n",
       "      <td>0.600806</td>\n",
       "      <td>25119</td>\n",
       "      <td>13455</td>\n",
       "      <td>0.535650</td>\n",
       "      <td>22661</td>\n",
       "    </tr>\n",
       "    <tr>\n",
       "      <th>10.0</th>\n",
       "      <td>0.600819</td>\n",
       "      <td>0.972367</td>\n",
       "      <td>12560</td>\n",
       "      <td>9206</td>\n",
       "      <td>0.732962</td>\n",
       "      <td>9206</td>\n",
       "    </tr>\n",
       "  </tbody>\n",
       "</table>\n",
       "</div>"
      ],
      "text/plain": [
       "           min       max  Total  Fakes      Pred  fake_count\n",
       "0.0   0.000486  0.067426  12559    417  0.033203       65365\n",
       "1.0   0.067426  0.102547  25119   1535  0.061109       64948\n",
       "2.0   0.102549  0.135340  25118   2301  0.091608       63413\n",
       "3.0   0.135341  0.171576  25119   3197  0.127274       61112\n",
       "4.0   0.171577  0.211524  25119   4204  0.167363       57915\n",
       "5.0   0.211526  0.254184  25118   5427  0.216060       53711\n",
       "6.0   0.254185  0.307527  25119   6670  0.265536       48284\n",
       "7.0   0.307529  0.380506  25119   8451  0.336439       41614\n",
       "8.0   0.380508  0.474683  25118  10502  0.418107       33163\n",
       "9.0   0.474685  0.600806  25119  13455  0.535650       22661\n",
       "10.0  0.600819  0.972367  12560   9206  0.732962        9206"
      ]
     },
     "execution_count": 24,
     "metadata": {},
     "output_type": "execute_result"
    }
   ],
   "source": [
    "df_final"
   ]
  },
  {
   "cell_type": "code",
   "execution_count": 25,
   "metadata": {},
   "outputs": [],
   "source": [
    "df_final['recall'] = df_final['fake_count']/df_final['Fakes'].sum()"
   ]
  },
  {
   "cell_type": "code",
   "execution_count": 26,
   "metadata": {},
   "outputs": [
    {
     "data": {
      "text/html": [
       "<div>\n",
       "<style scoped>\n",
       "    .dataframe tbody tr th:only-of-type {\n",
       "        vertical-align: middle;\n",
       "    }\n",
       "\n",
       "    .dataframe tbody tr th {\n",
       "        vertical-align: top;\n",
       "    }\n",
       "\n",
       "    .dataframe thead th {\n",
       "        text-align: right;\n",
       "    }\n",
       "</style>\n",
       "<table border=\"1\" class=\"dataframe\">\n",
       "  <thead>\n",
       "    <tr style=\"text-align: right;\">\n",
       "      <th></th>\n",
       "      <th>min</th>\n",
       "      <th>max</th>\n",
       "      <th>Total</th>\n",
       "      <th>Fakes</th>\n",
       "      <th>Pred</th>\n",
       "      <th>fake_count</th>\n",
       "      <th>recall</th>\n",
       "    </tr>\n",
       "  </thead>\n",
       "  <tbody>\n",
       "    <tr>\n",
       "      <th>0.0</th>\n",
       "      <td>0.000486</td>\n",
       "      <td>0.067426</td>\n",
       "      <td>12559</td>\n",
       "      <td>417</td>\n",
       "      <td>0.033203</td>\n",
       "      <td>65365</td>\n",
       "      <td>1.000000</td>\n",
       "    </tr>\n",
       "    <tr>\n",
       "      <th>1.0</th>\n",
       "      <td>0.067426</td>\n",
       "      <td>0.102547</td>\n",
       "      <td>25119</td>\n",
       "      <td>1535</td>\n",
       "      <td>0.061109</td>\n",
       "      <td>64948</td>\n",
       "      <td>0.993620</td>\n",
       "    </tr>\n",
       "    <tr>\n",
       "      <th>2.0</th>\n",
       "      <td>0.102549</td>\n",
       "      <td>0.135340</td>\n",
       "      <td>25118</td>\n",
       "      <td>2301</td>\n",
       "      <td>0.091608</td>\n",
       "      <td>63413</td>\n",
       "      <td>0.970137</td>\n",
       "    </tr>\n",
       "    <tr>\n",
       "      <th>3.0</th>\n",
       "      <td>0.135341</td>\n",
       "      <td>0.171576</td>\n",
       "      <td>25119</td>\n",
       "      <td>3197</td>\n",
       "      <td>0.127274</td>\n",
       "      <td>61112</td>\n",
       "      <td>0.934935</td>\n",
       "    </tr>\n",
       "    <tr>\n",
       "      <th>4.0</th>\n",
       "      <td>0.171577</td>\n",
       "      <td>0.211524</td>\n",
       "      <td>25119</td>\n",
       "      <td>4204</td>\n",
       "      <td>0.167363</td>\n",
       "      <td>57915</td>\n",
       "      <td>0.886025</td>\n",
       "    </tr>\n",
       "    <tr>\n",
       "      <th>5.0</th>\n",
       "      <td>0.211526</td>\n",
       "      <td>0.254184</td>\n",
       "      <td>25118</td>\n",
       "      <td>5427</td>\n",
       "      <td>0.216060</td>\n",
       "      <td>53711</td>\n",
       "      <td>0.821709</td>\n",
       "    </tr>\n",
       "    <tr>\n",
       "      <th>6.0</th>\n",
       "      <td>0.254185</td>\n",
       "      <td>0.307527</td>\n",
       "      <td>25119</td>\n",
       "      <td>6670</td>\n",
       "      <td>0.265536</td>\n",
       "      <td>48284</td>\n",
       "      <td>0.738683</td>\n",
       "    </tr>\n",
       "    <tr>\n",
       "      <th>7.0</th>\n",
       "      <td>0.307529</td>\n",
       "      <td>0.380506</td>\n",
       "      <td>25119</td>\n",
       "      <td>8451</td>\n",
       "      <td>0.336439</td>\n",
       "      <td>41614</td>\n",
       "      <td>0.636640</td>\n",
       "    </tr>\n",
       "    <tr>\n",
       "      <th>8.0</th>\n",
       "      <td>0.380508</td>\n",
       "      <td>0.474683</td>\n",
       "      <td>25118</td>\n",
       "      <td>10502</td>\n",
       "      <td>0.418107</td>\n",
       "      <td>33163</td>\n",
       "      <td>0.507351</td>\n",
       "    </tr>\n",
       "    <tr>\n",
       "      <th>9.0</th>\n",
       "      <td>0.474685</td>\n",
       "      <td>0.600806</td>\n",
       "      <td>25119</td>\n",
       "      <td>13455</td>\n",
       "      <td>0.535650</td>\n",
       "      <td>22661</td>\n",
       "      <td>0.346684</td>\n",
       "    </tr>\n",
       "    <tr>\n",
       "      <th>10.0</th>\n",
       "      <td>0.600819</td>\n",
       "      <td>0.972367</td>\n",
       "      <td>12560</td>\n",
       "      <td>9206</td>\n",
       "      <td>0.732962</td>\n",
       "      <td>9206</td>\n",
       "      <td>0.140840</td>\n",
       "    </tr>\n",
       "  </tbody>\n",
       "</table>\n",
       "</div>"
      ],
      "text/plain": [
       "           min       max  Total  Fakes      Pred  fake_count    recall\n",
       "0.0   0.000486  0.067426  12559    417  0.033203       65365  1.000000\n",
       "1.0   0.067426  0.102547  25119   1535  0.061109       64948  0.993620\n",
       "2.0   0.102549  0.135340  25118   2301  0.091608       63413  0.970137\n",
       "3.0   0.135341  0.171576  25119   3197  0.127274       61112  0.934935\n",
       "4.0   0.171577  0.211524  25119   4204  0.167363       57915  0.886025\n",
       "5.0   0.211526  0.254184  25118   5427  0.216060       53711  0.821709\n",
       "6.0   0.254185  0.307527  25119   6670  0.265536       48284  0.738683\n",
       "7.0   0.307529  0.380506  25119   8451  0.336439       41614  0.636640\n",
       "8.0   0.380508  0.474683  25118  10502  0.418107       33163  0.507351\n",
       "9.0   0.474685  0.600806  25119  13455  0.535650       22661  0.346684\n",
       "10.0  0.600819  0.972367  12560   9206  0.732962        9206  0.140840"
      ]
     },
     "execution_count": 26,
     "metadata": {},
     "output_type": "execute_result"
    }
   ],
   "source": [
    "df_final"
   ]
  },
  {
   "cell_type": "code",
   "execution_count": 5,
   "metadata": {},
   "outputs": [
    {
     "name": "stderr",
     "output_type": "stream",
     "text": [
      "e:\\miniconda\\envs\\vir_env\\lib\\site-packages\\sklearn\\utils\\deprecation.py:144: FutureWarning: The sklearn.metrics.scorer module is  deprecated in version 0.22 and will be removed in version 0.24. The corresponding classes / functions should instead be imported from sklearn.metrics. Anything that cannot be imported from sklearn.metrics is now part of the private API.\n",
      "  warnings.warn(message, FutureWarning)\n",
      "e:\\miniconda\\envs\\vir_env\\lib\\site-packages\\sklearn\\utils\\deprecation.py:144: FutureWarning: The sklearn.feature_selection.base module is  deprecated in version 0.22 and will be removed in version 0.24. The corresponding classes / functions should instead be imported from sklearn.feature_selection. Anything that cannot be imported from sklearn.feature_selection is now part of the private API.\n",
      "  warnings.warn(message, FutureWarning)\n"
     ]
    }
   ],
   "source": [
    "import eli5"
   ]
  },
  {
   "cell_type": "code",
   "execution_count": 9,
   "metadata": {},
   "outputs": [
    {
     "name": "stdout",
     "output_type": "stream",
     "text": [
      "<class 'pandas.core.frame.DataFrame'>\n",
      "RangeIndex: 1048575 entries, 0 to 1048574\n",
      "Data columns (total 53 columns):\n",
      "RETAILER_EL_NUMBER                1048575 non-null object\n",
      "REG_Q                             1048575 non-null int64\n",
      "MSISDN                            1048575 non-null int64\n",
      "TOT_MOB_REV_WK1                   1048575 non-null float64\n",
      "TOT_VC_REV_WK1                    1048575 non-null float64\n",
      "TOT_VC_OG_REV_WK1                 1048575 non-null float64\n",
      "TOT_VC_OG_MOU_WK1                 1048575 non-null float64\n",
      "TOT_VC_OG_COUNT_WK1               1048575 non-null float64\n",
      "TOT_VC_IC_MOU_WK1                 1048575 non-null float64\n",
      "TOT_VC_IC_COUNT_WK1               1048575 non-null float64\n",
      "TOT_VC_LCL_OG_REV_WK1             1048575 non-null float64\n",
      "TOT_VC_LCL_OG_MOU_WK1             1048575 non-null float64\n",
      "TOT_VC_LCL_OG_COUNT_WK1           1048575 non-null float64\n",
      "TOT_VC_LCL_ONNET_OG_REV_WK1       1048575 non-null float64\n",
      "TOT_VC_LCL_ONNET_OG_MOU_WK1       1048575 non-null float64\n",
      "TOT_VC_LCL_ONNET_OG_COUNT_WK1     1048575 non-null float64\n",
      "TOT_VC_LCL_OFFNET_OG_REV_WK1      1048575 non-null float64\n",
      "TOT_VC_LCL_OFFNET_OG_MOU_WK1      1048575 non-null float64\n",
      "TOT_VC_LCL_OFFNET_OG_COUNT_WK1    1048575 non-null float64\n",
      "TOT_VC_CHARGEABLE_MOU_WK1         1048575 non-null float64\n",
      "TOT_VC_CHARGEABLE_COUNT_WK1       1048575 non-null float64\n",
      "TOT_VC_BONUS_MOU_WK1              1048575 non-null float64\n",
      "TOT_VC_BONUS_COUNT_WK1            1048575 non-null float64\n",
      "TOT_VC_BUNDLE_REV_WK1             1048575 non-null float64\n",
      "TOT_VC_RC_REV_WK1                 1048575 non-null float64\n",
      "TOT_VC_RC_MOU_WK1                 1048575 non-null float64\n",
      "TOT_VC_RC_COUNT_WK1               1048575 non-null float64\n",
      "TOT_VC_ONNET_INC_COUNT_WK1        1048575 non-null float64\n",
      "TOT_VC_OFFNET_INC_MOU_WK1         1048575 non-null float64\n",
      "TOT_VC_OFFNET_INC_COUNT_WK1       1048575 non-null float64\n",
      "TOT_DATA_VOL_WK1                  1048575 non-null float64\n",
      "TOT_DATA_PPU_VOL_WK1              1048575 non-null float64\n",
      "TOT_DATA_BUNDLE_VOL_WK1           1048575 non-null float64\n",
      "TOT_DATA_BONUS_VOL_WK1            1048575 non-null float64\n",
      "DATA_BUNDLE_2G_VOL_WK1            1048575 non-null float64\n",
      "DATA_BUNDLE_3G_VOL_WK1            1048575 non-null float64\n",
      "DATA_BUNDLE_4G_VOL_WK1            1048575 non-null float64\n",
      "DATA_BONUS_2G_VOL_WK1             1048575 non-null float64\n",
      "DATA_BONUS_3G_VOL_WK1             1048575 non-null float64\n",
      "DATA_BONUS_4G_VOL_WK1             1048575 non-null float64\n",
      "DATA_EL_VOL_WK1                   1048575 non-null float64\n",
      "DATA_USSD_VOL_WK1                 1048575 non-null float64\n",
      "DATA_OTHER_VOL_WK1                1048575 non-null float64\n",
      "TOTAL_REFILL_COUNT_WK1            1048575 non-null float64\n",
      "TOTAL_REFILL_AMOUNT_WK1           1048575 non-null float64\n",
      "TOTAL_EL_REFILL_COUNT_WK1         1048575 non-null float64\n",
      "TOTAL_EL_REFILL_AMOUNT_WK1        1048575 non-null float64\n",
      "RGB_DAY_W1                        1048575 non-null int64\n",
      "DATA_DOU_DAY_W1                   1048575 non-null int64\n",
      "REFILL_DAY_W1                     1048575 non-null int64\n",
      "FAKE                              1048575 non-null int64\n",
      "LTE                               1048575 non-null object\n",
      "DEVICE_CAT                        1048575 non-null int64\n",
      "dtypes: float64(44), int64(7), object(2)\n",
      "memory usage: 424.0+ MB\n"
     ]
    }
   ],
   "source": [
    "df.info()"
   ]
  },
  {
   "cell_type": "code",
   "execution_count": 8,
   "metadata": {},
   "outputs": [],
   "source": [
    "from lime.lime_tabular import LimeTabularExplainer"
   ]
  },
  {
   "cell_type": "code",
   "execution_count": 11,
   "metadata": {},
   "outputs": [],
   "source": [
    "cat_features = []\n",
    "for values in df.columns:\n",
    "    cat_features.append(values)"
   ]
  },
  {
   "cell_type": "code",
   "execution_count": 21,
   "metadata": {},
   "outputs": [
    {
     "ename": "NameError",
     "evalue": "name 'new_ohe_features' is not defined",
     "output_type": "error",
     "traceback": [
      "\u001b[1;31m---------------------------------------------------------------------------\u001b[0m",
      "\u001b[1;31mNameError\u001b[0m                                 Traceback (most recent call last)",
      "\u001b[1;32m<ipython-input-21-f6f66ab0ee80>\u001b[0m in \u001b[0;36m<module>\u001b[1;34m\u001b[0m\n\u001b[0;32m      2\u001b[0m \u001b[1;32mfor\u001b[0m \u001b[0mcol\u001b[0m \u001b[1;32min\u001b[0m \u001b[0mcat_features\u001b[0m\u001b[1;33m:\u001b[0m\u001b[1;33m\u001b[0m\u001b[1;33m\u001b[0m\u001b[0m\n\u001b[0;32m      3\u001b[0m     categorical_names[X_train.columns.get_loc(col)] = [new_col.split(\"__\")[1] \n\u001b[1;32m----> 4\u001b[1;33m                                                        \u001b[1;32mfor\u001b[0m \u001b[0mnew_col\u001b[0m \u001b[1;32min\u001b[0m \u001b[0mnew_ohe_features\u001b[0m\u001b[1;33m\u001b[0m\u001b[1;33m\u001b[0m\u001b[0m\n\u001b[0m\u001b[0;32m      5\u001b[0m                                                        if new_col.split(\"__\")[0] == col]\n",
      "\u001b[1;31mNameError\u001b[0m: name 'new_ohe_features' is not defined"
     ]
    }
   ],
   "source": [
    "categorical_names = {}\n",
    "for col in cat_features:\n",
    "    categorical_names[X_train.columns.get_loc(col)] = [new_col.split(\"__\")[1] \n",
    "                                                       for new_col in new_ohe_features \n",
    "                                                       if new_col.split(\"__\")[0] == col]"
   ]
  },
  {
   "cell_type": "code",
   "execution_count": 22,
   "metadata": {},
   "outputs": [
    {
     "ename": "AttributeError",
     "evalue": "'Sequential' object has no attribute 'named_transformers_'",
     "output_type": "error",
     "traceback": [
      "\u001b[1;31m---------------------------------------------------------------------------\u001b[0m",
      "\u001b[1;31mAttributeError\u001b[0m                            Traceback (most recent call last)",
      "\u001b[1;32m<ipython-input-22-08dba647632a>\u001b[0m in \u001b[0;36m<module>\u001b[1;34m\u001b[0m\n\u001b[1;32m----> 1\u001b[1;33m \u001b[0mohe_categories\u001b[0m \u001b[1;33m=\u001b[0m \u001b[0mmodel\u001b[0m\u001b[1;33m.\u001b[0m\u001b[0mnamed_transformers_\u001b[0m\u001b[1;33m[\u001b[0m\u001b[1;34m\"categorical\"\u001b[0m\u001b[1;33m]\u001b[0m\u001b[1;33m.\u001b[0m\u001b[0mcategories_\u001b[0m\u001b[1;33m\u001b[0m\u001b[1;33m\u001b[0m\u001b[0m\n\u001b[0m",
      "\u001b[1;31mAttributeError\u001b[0m: 'Sequential' object has no attribute 'named_transformers_'"
     ]
    }
   ],
   "source": [
    "ohe_categories = model.named_transformers_[\"categorical\"].categories_"
   ]
  },
  {
   "cell_type": "code",
   "execution_count": 19,
   "metadata": {},
   "outputs": [
    {
     "data": {
      "text/plain": [
       "['REG_Q',\n",
       " 'TOT_MOB_REV_WK1',\n",
       " 'TOT_VC_REV_WK1',\n",
       " 'TOT_VC_OG_REV_WK1',\n",
       " 'TOT_VC_OG_MOU_WK1',\n",
       " 'TOT_VC_OG_COUNT_WK1',\n",
       " 'TOT_VC_IC_MOU_WK1',\n",
       " 'TOT_VC_IC_COUNT_WK1',\n",
       " 'TOT_VC_LCL_OG_REV_WK1',\n",
       " 'TOT_VC_LCL_OG_MOU_WK1',\n",
       " 'TOT_VC_LCL_OG_COUNT_WK1',\n",
       " 'TOT_VC_LCL_ONNET_OG_REV_WK1',\n",
       " 'TOT_VC_LCL_ONNET_OG_MOU_WK1',\n",
       " 'TOT_VC_LCL_ONNET_OG_COUNT_WK1',\n",
       " 'TOT_VC_LCL_OFFNET_OG_REV_WK1',\n",
       " 'TOT_VC_LCL_OFFNET_OG_MOU_WK1',\n",
       " 'TOT_VC_LCL_OFFNET_OG_COUNT_WK1',\n",
       " 'TOT_VC_CHARGEABLE_MOU_WK1',\n",
       " 'TOT_VC_CHARGEABLE_COUNT_WK1',\n",
       " 'TOT_VC_BONUS_MOU_WK1',\n",
       " 'TOT_VC_BONUS_COUNT_WK1',\n",
       " 'TOT_VC_BUNDLE_REV_WK1',\n",
       " 'TOT_VC_RC_REV_WK1',\n",
       " 'TOT_VC_RC_MOU_WK1',\n",
       " 'TOT_VC_RC_COUNT_WK1',\n",
       " 'TOT_VC_ONNET_INC_COUNT_WK1',\n",
       " 'TOT_VC_OFFNET_INC_MOU_WK1',\n",
       " 'TOT_VC_OFFNET_INC_COUNT_WK1',\n",
       " 'TOT_DATA_VOL_WK1',\n",
       " 'TOT_DATA_PPU_VOL_WK1',\n",
       " 'TOT_DATA_BUNDLE_VOL_WK1',\n",
       " 'TOT_DATA_BONUS_VOL_WK1',\n",
       " 'DATA_BUNDLE_2G_VOL_WK1',\n",
       " 'DATA_BUNDLE_3G_VOL_WK1',\n",
       " 'DATA_BUNDLE_4G_VOL_WK1',\n",
       " 'DATA_BONUS_2G_VOL_WK1',\n",
       " 'DATA_BONUS_3G_VOL_WK1',\n",
       " 'DATA_BONUS_4G_VOL_WK1',\n",
       " 'DATA_EL_VOL_WK1',\n",
       " 'DATA_USSD_VOL_WK1',\n",
       " 'DATA_OTHER_VOL_WK1',\n",
       " 'TOTAL_REFILL_COUNT_WK1',\n",
       " 'TOTAL_REFILL_AMOUNT_WK1',\n",
       " 'TOTAL_EL_REFILL_COUNT_WK1',\n",
       " 'TOTAL_EL_REFILL_AMOUNT_WK1',\n",
       " 'RGB_DAY_W1',\n",
       " 'DATA_DOU_DAY_W1',\n",
       " 'REFILL_DAY_W1',\n",
       " 'LTE',\n",
       " 'DEVICE_CAT']"
      ]
     },
     "execution_count": 19,
     "metadata": {},
     "output_type": "execute_result"
    }
   ],
   "source": [
    "cat_features"
   ]
  },
  {
   "cell_type": "code",
   "execution_count": null,
   "metadata": {},
   "outputs": [],
   "source": []
  }
 ],
 "metadata": {
  "kernelspec": {
   "display_name": "Python 3",
   "language": "python",
   "name": "python3"
  },
  "language_info": {
   "codemirror_mode": {
    "name": "ipython",
    "version": 3
   },
   "file_extension": ".py",
   "mimetype": "text/x-python",
   "name": "python",
   "nbconvert_exporter": "python",
   "pygments_lexer": "ipython3",
   "version": "3.7.5"
  }
 },
 "nbformat": 4,
 "nbformat_minor": 2
}
